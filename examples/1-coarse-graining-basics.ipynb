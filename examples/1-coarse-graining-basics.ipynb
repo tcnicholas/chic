{
 "cells": [
  {
   "cell_type": "code",
   "execution_count": 1,
   "metadata": {},
   "outputs": [],
   "source": [
    "from pathlib import Path\n",
    "from chic import Structure"
   ]
  },
  {
   "cell_type": "markdown",
   "metadata": {},
   "source": [
    "## Coarse-graining basics (ZIF-8 example)\n",
    "\n",
    "In this example we take the CIF for the prototypical zeolitic imidazolate \n",
    "framework, ZIF-8, and coarse-grain it. We check the coarse-graining is \n",
    "reasonable by overlaying the atomistic structure and coarse-grained structure \n",
    "before writing the final net in TopoCIF format."
   ]
  },
  {
   "cell_type": "code",
   "execution_count": 2,
   "metadata": {},
   "outputs": [
    {
     "name": "stderr",
     "output_type": "stream",
     "text": [
      "/Users/tcnicholas/miniconda3/envs/chic23/lib/python3.8/site-packages/chic/cif.py:107: UserWarning: Unable to match CIF atoms to Pymatgen atoms.\n",
      "  warnings.warn('Unable to match CIF atoms to Pymatgen atoms.')\n"
     ]
    }
   ],
   "source": [
    "# path to test example directory.\n",
    "eg_dir = Path('cg_zif8')\n",
    "\n",
    "# instantiate a Structure object from a CIF file.\n",
    "zif8 = Structure.from_cif(eg_dir / 'ZIF-8-sod.cif', cores=4, verbose=True)"
   ]
  },
  {
   "cell_type": "code",
   "execution_count": 3,
   "metadata": {},
   "outputs": [],
   "source": [
    "# we can apply methods native to the Pymatgen Structure class. here we remove \n",
    "# all oxygen atoms from the structure, which reside in the pores.\n",
    "zif8.remove_species('O')"
   ]
  },
  {
   "cell_type": "code",
   "execution_count": 4,
   "metadata": {},
   "outputs": [
    {
     "name": "stdout",
     "output_type": "stream",
     "text": [
      "\u001b[94maverage_element_pairs() took 0.02 seconds to execute.\u001b[0m\n"
     ]
    }
   ],
   "source": [
    "# we can apply chic methods for dealing with structural distorder. here we\n",
    "# take the average position between pairs of H atoms.\n",
    "zif8.average_element_pairs('H', rmin=0.0, rmax=0.9)"
   ]
  },
  {
   "cell_type": "code",
   "execution_count": 5,
   "metadata": {},
   "outputs": [
    {
     "name": "stdout",
     "output_type": "stream",
     "text": [
      "\u001b[94mget_neighbours_crystalnn() took 9.10 seconds to execute.\u001b[0m\n",
      "\u001b[94mfind_atomic_clusters() took 0.03 seconds to execute.\u001b[0m\n",
      "\u001b[94mget_coarse_grained_net() took 0.01 seconds to execute.\u001b[0m\n"
     ]
    }
   ],
   "source": [
    "# compute the neighbour list using the CrystalNN algorithm.\n",
    "zif8.get_neighbours_crystalnn()\n",
    "\n",
    "# determine atomic clusters.\n",
    "zif8.find_atomic_clusters()\n",
    "\n",
    "# coarse-grain with centroid method.\n",
    "zif8.get_coarse_grained_net()"
   ]
  },
  {
   "cell_type": "code",
   "execution_count": 6,
   "metadata": {},
   "outputs": [],
   "source": [
    "# we can write the coarse-grained net with the bond information to a TopoCIF.\n",
    "zif8.net_to_cif(eg_dir / 'ZIF-8-sod-cg.cif', write_bonds=True, name='ZIF-8-cg')\n",
    "\n",
    "# we can also write to LAMMPS data file.\n",
    "zif8.net_to_lammps_data(\n",
    "    eg_dir / 'ZIF-8-sod-cg.data', write_bonds=True, name='ZIF-8-cg'\n",
    ")\n",
    "\n",
    "# we can check the coarse-grained net seems reasonable.\n",
    "zif8.overlay_cg_atomistic_representations(eg_dir / 'ZIF-8-sod-overlay.cif')"
   ]
  },
  {
   "cell_type": "code",
   "execution_count": 7,
   "metadata": {},
   "outputs": [],
   "source": [
    "# call Pymatgen's writer to write to a VASP POSCAR format.\n",
    "zif8.net_to(eg_dir / 'POSCAR', fmt='poscar')"
   ]
  },
  {
   "cell_type": "code",
   "execution_count": 8,
   "metadata": {},
   "outputs": [],
   "source": [
    "# use ASE writer to write an xyz file.\n",
    "zif8.net_to_ase_to(eg_dir / 'ZIF-8-cg.xyz')"
   ]
  },
  {
   "cell_type": "code",
   "execution_count": 9,
   "metadata": {},
   "outputs": [
    {
     "data": {
      "text/plain": [
       "(pymatgen.core.structure.Structure,\n",
       " Structure Summary\n",
       " Lattice\n",
       "     abc : 16.8509 16.8509 16.8509\n",
       "  angles : 90.0 90.0 90.0\n",
       "  volume : 4784.860756696228\n",
       "       A : 16.8509 0.0 1.0318200373876067e-15\n",
       "       B : -1.0318200373876067e-15 16.8509 1.0318200373876067e-15\n",
       "       C : 0.0 0.0 16.8509\n",
       "     pbc : True True True\n",
       " PeriodicSite: O (6.252, 6.252, 0.2886) [0.371, 0.371, 0.01713]\n",
       " PeriodicSite: O (0.2886, 10.6, 10.6) [0.01713, 0.629, 0.629]\n",
       " PeriodicSite: O (0.2886, 6.252, 6.252) [0.01713, 0.371, 0.371]\n",
       " PeriodicSite: O (10.6, 10.6, 0.2886) [0.629, 0.629, 0.01713]\n",
       " PeriodicSite: O (10.6, 0.2886, 10.6) [0.629, 0.01713, 0.629]\n",
       " PeriodicSite: O (6.252, 0.2886, 6.252) [0.371, 0.01713, 0.371]\n",
       " PeriodicSite: O (8.137, 14.68, 2.173) [0.4829, 0.871, 0.129]\n",
       " PeriodicSite: O (6.252, 16.56, 10.6) [0.371, 0.9829, 0.629]\n",
       " PeriodicSite: Si (8.425, 12.64, 1.29e-15) [0.5, 0.75, 0.0]\n",
       " PeriodicSite: O (8.714, 14.68, 14.68) [0.5171, 0.871, 0.871]\n",
       " PeriodicSite: Si (8.425, 0.0, 12.64) [0.5, 0.0, 0.75]\n",
       " PeriodicSite: O (8.137, 2.173, 14.68) [0.4829, 0.129, 0.871]\n",
       " PeriodicSite: Si (8.425, 4.213, 7.739e-16) [0.5, 0.25, 0.0]\n",
       " PeriodicSite: O (8.714, 2.173, 2.173) [0.5171, 0.129, 0.129]\n",
       " PeriodicSite: O (10.6, 6.252, 16.56) [0.629, 0.371, 0.9829]\n",
       " PeriodicSite: O (6.252, 10.6, 16.56) [0.371, 0.629, 0.9829]\n",
       " PeriodicSite: Si (-2.58e-16, 4.213, 8.425) [0.0, 0.25, 0.5]\n",
       " PeriodicSite: O (2.173, 2.173, 8.714) [0.129, 0.129, 0.5171]\n",
       " PeriodicSite: Si (4.213, 0.0, 8.425) [0.25, 0.0, 0.5]\n",
       " PeriodicSite: Si (-5.159e-16, 8.425, 4.213) [0.0, 0.5, 0.25]\n",
       " PeriodicSite: Si (8.425, 0.0, 4.213) [0.5, 0.0, 0.25]\n",
       " PeriodicSite: O (10.6, 16.56, 6.252) [0.629, 0.9829, 0.371]\n",
       " PeriodicSite: O (16.56, 10.6, 6.252) [0.9829, 0.629, 0.371]\n",
       " PeriodicSite: O (14.68, 14.68, 8.714) [0.871, 0.871, 0.5171]\n",
       " PeriodicSite: Si (12.64, 0.0, 8.425) [0.75, 0.0, 0.5]\n",
       " PeriodicSite: O (14.68, 2.173, 8.137) [0.871, 0.129, 0.4829]\n",
       " PeriodicSite: Si (-7.739e-16, 12.64, 8.425) [0.0, 0.75, 0.5]\n",
       " PeriodicSite: O (2.173, 14.68, 8.137) [0.129, 0.871, 0.4829]\n",
       " PeriodicSite: Si (4.213, 8.425, 7.739e-16) [0.25, 0.5, 0.0]\n",
       " PeriodicSite: O (2.173, 8.714, 2.173) [0.129, 0.5171, 0.129]\n",
       " PeriodicSite: O (16.56, 6.252, 10.6) [0.9829, 0.371, 0.629]\n",
       " PeriodicSite: Si (-5.159e-16, 8.425, 12.64) [0.0, 0.5, 0.75]\n",
       " PeriodicSite: O (2.173, 8.137, 14.68) [0.129, 0.4829, 0.871]\n",
       " PeriodicSite: O (14.68, 8.137, 2.173) [0.871, 0.4829, 0.129]\n",
       " PeriodicSite: Si (12.64, 8.425, 1.29e-15) [0.75, 0.5, 0.0]\n",
       " PeriodicSite: O (14.68, 8.714, 14.68) [0.871, 0.5171, 0.871])"
      ]
     },
     "execution_count": 9,
     "metadata": {},
     "output_type": "execute_result"
    }
   ],
   "source": [
    "# net to Pymatgen Structure object.\n",
    "pym_net = zif8.net_to_struct()\n",
    "type(pym_net), pym_net"
   ]
  },
  {
   "cell_type": "code",
   "execution_count": 10,
   "metadata": {},
   "outputs": [
    {
     "data": {
      "text/plain": [
       "(ase.atoms.Atoms,\n",
       " Atoms(symbols='O24Si12', pbc=True, cell=[[16.8509, 0.0, 1.0318200373876067e-15], [-1.0318200373876067e-15, 16.8509, 1.0318200373876067e-15], [0.0, 0.0, 16.8509]]))"
      ]
     },
     "execution_count": 10,
     "metadata": {},
     "output_type": "execute_result"
    }
   ],
   "source": [
    "# net to ASE Atoms object.\n",
    "ase_net = zif8.net_to_ase_atoms()\n",
    "type(ase_net), ase_net"
   ]
  },
  {
   "cell_type": "code",
   "execution_count": null,
   "metadata": {},
   "outputs": [],
   "source": []
  }
 ],
 "metadata": {
  "kernelspec": {
   "display_name": "chic23",
   "language": "python",
   "name": "python3"
  },
  "language_info": {
   "codemirror_mode": {
    "name": "ipython",
    "version": 3
   },
   "file_extension": ".py",
   "mimetype": "text/x-python",
   "name": "python",
   "nbconvert_exporter": "python",
   "pygments_lexer": "ipython3",
   "version": "3.8.17"
  }
 },
 "nbformat": 4,
 "nbformat_minor": 2
}
