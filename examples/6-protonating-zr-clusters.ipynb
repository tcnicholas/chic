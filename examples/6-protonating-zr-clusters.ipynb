{
 "cells": [
  {
   "cell_type": "code",
   "execution_count": 1,
   "metadata": {},
   "outputs": [],
   "source": [
    "from pathlib import Path\n",
    "from copy import deepcopy\n",
    "\n",
    "import numpy as np\n",
    "from pymatgen.core import Element\n",
    "\n",
    "from chic import Structure"
   ]
  },
  {
   "cell_type": "code",
   "execution_count": 2,
   "metadata": {},
   "outputs": [
    {
     "name": "stderr",
     "output_type": "stream",
     "text": [
      "/Users/tcnicholas/miniconda3/envs/ace2023/lib/python3.9/site-packages/chic/cif.py:107: UserWarning: Unable to match CIF atoms to Pymatgen atoms.\n",
      "  warnings.warn('Unable to match CIF atoms to Pymatgen atoms.')\n"
     ]
    },
    {
     "name": "stdout",
     "output_type": "stream",
     "text": [
      "\u001b[94mget_neighbours_crystalnn() took 17.15 seconds to execute.\u001b[0m\n",
      "\u001b[94mfind_atomic_clusters() took 0.02 seconds to execute.\u001b[0m\n"
     ]
    },
    {
     "ename": "ValueError",
     "evalue": "No image found for site index 243, and no visited neighbor with an image to use as a reference.",
     "output_type": "error",
     "traceback": [
      "\u001b[0;31m---------------------------------------------------------------------------\u001b[0m",
      "\u001b[0;31mValueError\u001b[0m                                Traceback (most recent call last)",
      "\u001b[1;32m/Users/tcnicholas/Documents/GitHub/chic/examples/6-protonating-zr-clusters.ipynb Cell 2\u001b[0m line \u001b[0;36m1\n\u001b[1;32m     <a href='vscode-notebook-cell:/Users/tcnicholas/Documents/GitHub/chic/examples/6-protonating-zr-clusters.ipynb#W1sZmlsZQ%3D%3D?line=10'>11</a>\u001b[0m struct\u001b[39m.\u001b[39mfind_atomic_clusters()\n\u001b[1;32m     <a href='vscode-notebook-cell:/Users/tcnicholas/Documents/GitHub/chic/examples/6-protonating-zr-clusters.ipynb#W1sZmlsZQ%3D%3D?line=12'>13</a>\u001b[0m \u001b[39m# find metal clusters.\u001b[39;00m\n\u001b[0;32m---> <a href='vscode-notebook-cell:/Users/tcnicholas/Documents/GitHub/chic/examples/6-protonating-zr-clusters.ipynb#W1sZmlsZQ%3D%3D?line=13'>14</a>\u001b[0m struct\u001b[39m.\u001b[39;49mfind_metal_clusters()\n",
      "File \u001b[0;32m~/miniconda3/envs/ace2023/lib/python3.9/site-packages/chic/structure.py:678\u001b[0m, in \u001b[0;36mStructure.find_metal_clusters\u001b[0;34m(self, elements)\u001b[0m\n\u001b[1;32m    676\u001b[0m \u001b[39m# convert clusters to AtomicCluster objects.\u001b[39;00m\n\u001b[1;32m    677\u001b[0m \u001b[39mfor\u001b[39;00m label, cluster_site_indices \u001b[39min\u001b[39;00m clusters\u001b[39m.\u001b[39mitems():\n\u001b[0;32m--> 678\u001b[0m     cluster \u001b[39m=\u001b[39m \u001b[39mself\u001b[39;49m\u001b[39m.\u001b[39;49m_prepare_atomic_cluster(cluster_site_indices, \u001b[39m'\u001b[39;49m\u001b[39ma\u001b[39;49m\u001b[39m'\u001b[39;49m)\n\u001b[1;32m    679\u001b[0m     metal_clusters\u001b[39m.\u001b[39mappend(cluster)\n\u001b[1;32m    681\u001b[0m \u001b[39m# now we can remove the original clusters from the structure and replace\u001b[39;00m\n\u001b[1;32m    682\u001b[0m \u001b[39m# them with the metal clusters.\u001b[39;00m\n",
      "File \u001b[0;32m~/miniconda3/envs/ace2023/lib/python3.9/site-packages/chic/structure.py:1512\u001b[0m, in \u001b[0;36mStructure._prepare_atomic_cluster\u001b[0;34m(self, site_indices_set, site_type)\u001b[0m\n\u001b[1;32m   1509\u001b[0m                 \u001b[39mbreak\u001b[39;00m\n\u001b[1;32m   1510\u001b[0m         \u001b[39mif\u001b[39;00m site_index \u001b[39mnot\u001b[39;00m \u001b[39min\u001b[39;00m images:\n\u001b[1;32m   1511\u001b[0m             \u001b[39m# If no visited neighbor with image was found, raise error.\u001b[39;00m\n\u001b[0;32m-> 1512\u001b[0m             \u001b[39mraise\u001b[39;00m \u001b[39mValueError\u001b[39;00m(\n\u001b[1;32m   1513\u001b[0m                 \u001b[39mf\u001b[39m\u001b[39m\"\u001b[39m\u001b[39mNo image found for site index \u001b[39m\u001b[39m{\u001b[39;00msite_index\u001b[39m}\u001b[39;00m\u001b[39m, \u001b[39m\u001b[39m\"\u001b[39m\n\u001b[1;32m   1514\u001b[0m                 \u001b[39m\"\u001b[39m\u001b[39mand no visited neighbor with an image to use as \u001b[39m\u001b[39m\"\u001b[39m\n\u001b[1;32m   1515\u001b[0m                 \u001b[39m\"\u001b[39m\u001b[39ma reference.\u001b[39m\u001b[39m\"\u001b[39m\n\u001b[1;32m   1516\u001b[0m             )\n\u001b[1;32m   1518\u001b[0m \u001b[39m# gather all properties of the cluster.\u001b[39;00m\n\u001b[1;32m   1519\u001b[0m sites \u001b[39m=\u001b[39m [\u001b[39mself\u001b[39m[i] \u001b[39mfor\u001b[39;00m i \u001b[39min\u001b[39;00m site_indices_set]\n",
      "\u001b[0;31mValueError\u001b[0m: No image found for site index 243, and no visited neighbor with an image to use as a reference."
     ]
    }
   ],
   "source": [
    "# set path to cif file.\n",
    "eg_path = Path('UiO-66(Zr)')\n",
    "\n",
    "# load structure.\n",
    "struct = Structure.from_cif(eg_path / 'UiO-66_cdc-H2O.cif')\n",
    "\n",
    "# compute neighbour list.\n",
    "struct.get_neighbours_crystalnn(cores=8)\n",
    "\n",
    "# find atomic clusters.\n",
    "struct.find_atomic_clusters()\n",
    "\n",
    "# find metal clusters.\n",
    "struct.find_metal_clusters()"
   ]
  },
  {
   "cell_type": "code",
   "execution_count": 2,
   "metadata": {},
   "outputs": [
    {
     "data": {
      "text/plain": [
       "2"
      ]
     },
     "execution_count": 2,
     "metadata": {},
     "output_type": "execute_result"
    }
   ],
   "source": [
    "240 // 120"
   ]
  },
  {
   "cell_type": "code",
   "execution_count": null,
   "metadata": {},
   "outputs": [
    {
     "name": "stdout",
     "output_type": "stream",
     "text": [
      "No module named 'phonopy'\n"
     ]
    },
    {
     "data": {
      "text/html": [
       "\n",
       "        <iframe\n",
       "            width=\"100%\"\n",
       "            height=\"650\"\n",
       "            src=\"http://127.0.0.1:8050/\"\n",
       "            frameborder=\"0\"\n",
       "            allowfullscreen\n",
       "            \n",
       "        ></iframe>\n",
       "        "
      ],
      "text/plain": [
       "<IPython.lib.display.IFrame at 0x7fb07a363670>"
      ]
     },
     "metadata": {},
     "output_type": "display_data"
    }
   ],
   "source": [
    "struct.atomic_clusters[('a', 1)].visualise()"
   ]
  },
  {
   "cell_type": "code",
   "execution_count": null,
   "metadata": {},
   "outputs": [],
   "source": [
    "def add_hydroxyl_proton(\n",
    "    struct, \n",
    "    cluster, \n",
    "    r0: float,\n",
    "    tetrahedron_orientation=None\n",
    "):\n",
    "    \"\"\"\n",
    "    Add a hydrogen atom to a meant-to-be-hydroxyl group.\n",
    "\n",
    "    Arguments:\n",
    "        struct: pymatgen Structure object.\n",
    "        cluster: the cluster to add the hydrogen atom to.\n",
    "        r0: the distance to the hydrogen atom (Angstrom).\n",
    "        tetrahedron_orientation: Optional. The relative orientation of the tetrahedron.\n",
    "    \"\"\"\n",
    "\n",
    "    # Get the centroid of the cluster and the coordinates of the oxygens.\n",
    "    centroid = cluster.get_centroid()\n",
    "    oxygen_coords = cluster.get_cart_coords_by_species('O')\n",
    "\n",
    "    # Initialise the hydrogen coordinates.\n",
    "    hydrogen_coords = np.zeros((4, 3))\n",
    "\n",
    "    if tetrahedron_orientation is None:\n",
    "\n",
    "        # determine the orientation of the tetrahedron.\n",
    "        tetrahedron_orientation = []\n",
    "        tetrahedral_oxygen_indices = [1, 3, 2, 6]\n",
    "        for i, index in enumerate(tetrahedral_oxygen_indices):\n",
    "            direction = oxygen_coords[index] - centroid\n",
    "            tetrahedron_orientation.append(direction.copy())\n",
    "            direction /= np.linalg.norm(direction)\n",
    "            hydrogen_coords[i] = oxygen_coords[index] + r0 * direction\n",
    "            \n",
    "    else:\n",
    "        \n",
    "        # Find the 4 oxygens closest to the provided tetrahedron orientation\n",
    "        for i in range(4):\n",
    "            distances = np.linalg.norm(\n",
    "                oxygen_coords - (centroid + tetrahedron_orientation[i]), \n",
    "                axis=1\n",
    "            )\n",
    "            min_index = np.argmin(distances)\n",
    "            hydrogen_coords[i] = oxygen_coords[min_index] + r0 * tetrahedron_orientation[i] / np.linalg.norm(tetrahedron_orientation[i])\n",
    "    \n",
    "    # Add hydrogen atoms to the structure\n",
    "    for coords in hydrogen_coords:\n",
    "        struct.append(Element('H'), coords, coords_are_cartesian=True)\n",
    "\n",
    "    return np.array(tetrahedron_orientation)"
   ]
  },
  {
   "cell_type": "code",
   "execution_count": 3,
   "metadata": {},
   "outputs": [
    {
     "ename": "NameError",
     "evalue": "name 'add_hydroxyl_proton' is not defined",
     "output_type": "error",
     "traceback": [
      "\u001b[0;31m---------------------------------------------------------------------------\u001b[0m",
      "\u001b[0;31mNameError\u001b[0m                                 Traceback (most recent call last)",
      "\u001b[1;32m/Users/tcnicholas/Documents/GitHub/chic/examples/6-protonating-zr-clusters.ipynb Cell 5\u001b[0m line \u001b[0;36m8\n\u001b[1;32m      <a href='vscode-notebook-cell:/Users/tcnicholas/Documents/GitHub/chic/examples/6-protonating-zr-clusters.ipynb#W4sZmlsZQ%3D%3D?line=5'>6</a>\u001b[0m tetrahedron_orientation \u001b[39m=\u001b[39m \u001b[39mNone\u001b[39;00m\n\u001b[1;32m      <a href='vscode-notebook-cell:/Users/tcnicholas/Documents/GitHub/chic/examples/6-protonating-zr-clusters.ipynb#W4sZmlsZQ%3D%3D?line=6'>7</a>\u001b[0m \u001b[39mfor\u001b[39;00m i, cluster \u001b[39min\u001b[39;00m \u001b[39menumerate\u001b[39m(a_clusters):\n\u001b[0;32m----> <a href='vscode-notebook-cell:/Users/tcnicholas/Documents/GitHub/chic/examples/6-protonating-zr-clusters.ipynb#W4sZmlsZQ%3D%3D?line=7'>8</a>\u001b[0m     tetrahedron_orientation \u001b[39m=\u001b[39m add_hydroxyl_proton(\n\u001b[1;32m      <a href='vscode-notebook-cell:/Users/tcnicholas/Documents/GitHub/chic/examples/6-protonating-zr-clusters.ipynb#W4sZmlsZQ%3D%3D?line=8'>9</a>\u001b[0m         struct_copy, \n\u001b[1;32m     <a href='vscode-notebook-cell:/Users/tcnicholas/Documents/GitHub/chic/examples/6-protonating-zr-clusters.ipynb#W4sZmlsZQ%3D%3D?line=9'>10</a>\u001b[0m         cluster, \n\u001b[1;32m     <a href='vscode-notebook-cell:/Users/tcnicholas/Documents/GitHub/chic/examples/6-protonating-zr-clusters.ipynb#W4sZmlsZQ%3D%3D?line=10'>11</a>\u001b[0m         \u001b[39m1.0\u001b[39m, \n\u001b[1;32m     <a href='vscode-notebook-cell:/Users/tcnicholas/Documents/GitHub/chic/examples/6-protonating-zr-clusters.ipynb#W4sZmlsZQ%3D%3D?line=11'>12</a>\u001b[0m         tetrahedron_orientation\n\u001b[1;32m     <a href='vscode-notebook-cell:/Users/tcnicholas/Documents/GitHub/chic/examples/6-protonating-zr-clusters.ipynb#W4sZmlsZQ%3D%3D?line=12'>13</a>\u001b[0m     )\n\u001b[1;32m     <a href='vscode-notebook-cell:/Users/tcnicholas/Documents/GitHub/chic/examples/6-protonating-zr-clusters.ipynb#W4sZmlsZQ%3D%3D?line=14'>15</a>\u001b[0m \u001b[39m# save the structure.\u001b[39;00m\n\u001b[1;32m     <a href='vscode-notebook-cell:/Users/tcnicholas/Documents/GitHub/chic/examples/6-protonating-zr-clusters.ipynb#W4sZmlsZQ%3D%3D?line=15'>16</a>\u001b[0m struct_copy\u001b[39m.\u001b[39mto(\u001b[39mstr\u001b[39m(eg_path \u001b[39m/\u001b[39m \u001b[39m'\u001b[39m\u001b[39mUiO-66_cdc-H2O-H.cif\u001b[39m\u001b[39m'\u001b[39m), \u001b[39m'\u001b[39m\u001b[39mcif\u001b[39m\u001b[39m'\u001b[39m);\n",
      "\u001b[0;31mNameError\u001b[0m: name 'add_hydroxyl_proton' is not defined"
     ]
    }
   ],
   "source": [
    "# make a deepcopy of the structure.\n",
    "struct_copy = deepcopy(struct)\n",
    "a_clusters = [struct.atomic_clusters[('a', i)] for i in range(1,5)]\n",
    "\n",
    "# add hydrogen atoms to the structure.\n",
    "tetrahedron_orientation = None\n",
    "for i, cluster in enumerate(a_clusters):\n",
    "    tetrahedron_orientation = add_hydroxyl_proton(\n",
    "        struct_copy, \n",
    "        cluster, \n",
    "        1.0, \n",
    "        tetrahedron_orientation\n",
    "    )\n",
    "\n",
    "# save the structure.\n",
    "struct_copy.to(str(eg_path / 'UiO-66_cdc-H2O-H.cif'), 'cif');"
   ]
  },
  {
   "cell_type": "code",
   "execution_count": 7,
   "metadata": {},
   "outputs": [],
   "source": [
    "# now we have a structure with hydroxyl groups, we can model the structure.\n",
    "# first we need to sort the structure. then write it.\n",
    "struct_copy.sort()\n",
    "struct_copy.to(str(eg_path / 'POSCAR'), 'poscar');"
   ]
  }
 ],
 "metadata": {
  "kernelspec": {
   "display_name": "chic23",
   "language": "python",
   "name": "python3"
  },
  "language_info": {
   "codemirror_mode": {
    "name": "ipython",
    "version": 3
   },
   "file_extension": ".py",
   "mimetype": "text/x-python",
   "name": "python",
   "nbconvert_exporter": "python",
   "pygments_lexer": "ipython3",
   "version": "3.8.17"
  }
 },
 "nbformat": 4,
 "nbformat_minor": 2
}
