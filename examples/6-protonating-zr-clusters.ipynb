{
 "cells": [
  {
   "cell_type": "code",
   "execution_count": 1,
   "metadata": {},
   "outputs": [],
   "source": [
    "from pathlib import Path\n",
    "from copy import deepcopy\n",
    "\n",
    "import numpy as np\n",
    "from pymatgen.core import Element\n",
    "\n",
    "from chic import Structure"
   ]
  },
  {
   "cell_type": "code",
   "execution_count": 2,
   "metadata": {},
   "outputs": [
    {
     "name": "stderr",
     "output_type": "stream",
     "text": [
      "/Users/tcnicholas/miniconda3/envs/chic23/lib/python3.8/site-packages/chic/cif.py:107: UserWarning: Unable to match CIF atoms to Pymatgen atoms.\n",
      "  warnings.warn('Unable to match CIF atoms to Pymatgen atoms.')\n"
     ]
    },
    {
     "name": "stdout",
     "output_type": "stream",
     "text": [
      "\u001b[94mget_neighbours_crystalnn() took 20.63 seconds to execute.\u001b[0m\n",
      "\u001b[94mfind_atomic_clusters() took 0.03 seconds to execute.\u001b[0m\n"
     ]
    }
   ],
   "source": [
    "# set path to cif file.\n",
    "eg_path = Path('UiO-66(Zr)')\n",
    "\n",
    "# load structure.\n",
    "struct = Structure.from_cif(eg_path / 'UiO-66_cdc-H2O.cif')\n",
    "\n",
    "# compute neighbour list.\n",
    "struct.get_neighbours_crystalnn(cores=8)\n",
    "\n",
    "# find atomic clusters.\n",
    "struct.find_atomic_clusters()\n",
    "\n",
    "# find metal clusters.\n",
    "struct.find_metal_clusters()"
   ]
  },
  {
   "cell_type": "code",
   "execution_count": 3,
   "metadata": {},
   "outputs": [
    {
     "name": "stdout",
     "output_type": "stream",
     "text": [
      "No module named 'phonopy'\n"
     ]
    },
    {
     "data": {
      "text/html": [
       "\n",
       "        <iframe\n",
       "            width=\"100%\"\n",
       "            height=\"650\"\n",
       "            src=\"http://127.0.0.1:8050/\"\n",
       "            frameborder=\"0\"\n",
       "            allowfullscreen\n",
       "            \n",
       "        ></iframe>\n",
       "        "
      ],
      "text/plain": [
       "<IPython.lib.display.IFrame at 0x7fb07a363670>"
      ]
     },
     "metadata": {},
     "output_type": "display_data"
    }
   ],
   "source": [
    "struct.atomic_clusters[('a', 1)].visualise()"
   ]
  },
  {
   "cell_type": "code",
   "execution_count": 4,
   "metadata": {},
   "outputs": [],
   "source": [
    "def add_hydroxyl_proton(\n",
    "    struct, \n",
    "    cluster, \n",
    "    r0: float,\n",
    "    tetrahedron_orientation=None\n",
    "):\n",
    "    \"\"\"\n",
    "    Add a hydrogen atom to a meant-to-be-hydroxyl group.\n",
    "\n",
    "    Arguments:\n",
    "        struct: pymatgen Structure object.\n",
    "        cluster: the cluster to add the hydrogen atom to.\n",
    "        r0: the distance to the hydrogen atom (Angstrom).\n",
    "        tetrahedron_orientation: Optional. The relative orientation of the tetrahedron.\n",
    "    \"\"\"\n",
    "\n",
    "    # Get the centroid of the cluster and the coordinates of the oxygens.\n",
    "    centroid = cluster.get_centroid()\n",
    "    oxygen_coords = cluster.get_cart_coords_by_species('O')\n",
    "\n",
    "    # Initialise the hydrogen coordinates.\n",
    "    hydrogen_coords = np.zeros((4, 3))\n",
    "\n",
    "    if tetrahedron_orientation is None:\n",
    "\n",
    "        # determine the orientation of the tetrahedron.\n",
    "        tetrahedron_orientation = []\n",
    "        tetrahedral_oxygen_indices = [1, 3, 2, 6]\n",
    "        for i, index in enumerate(tetrahedral_oxygen_indices):\n",
    "            direction = oxygen_coords[index] - centroid\n",
    "            tetrahedron_orientation.append(direction.copy())\n",
    "            direction /= np.linalg.norm(direction)\n",
    "            hydrogen_coords[i] = oxygen_coords[index] + r0 * direction\n",
    "            \n",
    "    else:\n",
    "        \n",
    "        # Find the 4 oxygens closest to the provided tetrahedron orientation\n",
    "        for i in range(4):\n",
    "            distances = np.linalg.norm(\n",
    "                oxygen_coords - (centroid + tetrahedron_orientation[i]), \n",
    "                axis=1\n",
    "            )\n",
    "            min_index = np.argmin(distances)\n",
    "            hydrogen_coords[i] = oxygen_coords[min_index] + r0 * tetrahedron_orientation[i] / np.linalg.norm(tetrahedron_orientation[i])\n",
    "    \n",
    "    # Add hydrogen atoms to the structure\n",
    "    for coords in hydrogen_coords:\n",
    "        struct.append(Element('H'), coords, coords_are_cartesian=True)\n",
    "\n",
    "    return np.array(tetrahedron_orientation)"
   ]
  },
  {
   "cell_type": "code",
   "execution_count": 5,
   "metadata": {},
   "outputs": [],
   "source": [
    "# make a deepcopy of the structure.\n",
    "struct_copy = deepcopy(struct)\n",
    "a_clusters = [struct.atomic_clusters[('a', i)] for i in range(1,5)]\n",
    "\n",
    "# add hydrogen atoms to the structure.\n",
    "tetrahedron_orientation = None\n",
    "for i, cluster in enumerate(a_clusters):\n",
    "    tetrahedron_orientation = add_hydroxyl_proton(\n",
    "        struct_copy, \n",
    "        cluster, \n",
    "        1.0, \n",
    "        tetrahedron_orientation\n",
    "    )\n",
    "\n",
    "# save the structure.\n",
    "struct_copy.to(str(eg_path / 'UiO-66_cdc-H2O-H.cif'), 'cif');"
   ]
  },
  {
   "cell_type": "code",
   "execution_count": 7,
   "metadata": {},
   "outputs": [],
   "source": [
    "# now we have a structure with hydroxyl groups, we can model the structure.\n",
    "# first we need to sort the structure. then write it.\n",
    "struct_copy.sort()\n",
    "struct_copy.to(str(eg_path / 'POSCAR'), 'poscar');"
   ]
  }
 ],
 "metadata": {
  "kernelspec": {
   "display_name": "chic23",
   "language": "python",
   "name": "python3"
  },
  "language_info": {
   "codemirror_mode": {
    "name": "ipython",
    "version": 3
   },
   "file_extension": ".py",
   "mimetype": "text/x-python",
   "name": "python",
   "nbconvert_exporter": "python",
   "pygments_lexer": "ipython3",
   "version": "3.8.17"
  }
 },
 "nbformat": 4,
 "nbformat_minor": 2
}
