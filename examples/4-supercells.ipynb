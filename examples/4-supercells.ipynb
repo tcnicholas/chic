{
 "cells": [
  {
   "cell_type": "code",
   "execution_count": 1,
   "metadata": {},
   "outputs": [],
   "source": [
    "from pathlib import Path\n",
    "from chic import Structure, Net"
   ]
  },
  {
   "cell_type": "markdown",
   "metadata": {},
   "source": [
    "---\n",
    "## Coarse-graining supercells"
   ]
  },
  {
   "cell_type": "code",
   "execution_count": 2,
   "metadata": {},
   "outputs": [
    {
     "name": "stdout",
     "output_type": "stream",
     "text": [
      "\u001b[94maverage_element_pairs() took 0.02 seconds to execute.\u001b[0m\n"
     ]
    },
    {
     "name": "stderr",
     "output_type": "stream",
     "text": [
      "/Users/tcnicholas/miniconda3/envs/chic23/lib/python3.8/site-packages/chic/cif.py:107: UserWarning: Unable to match CIF atoms to Pymatgen atoms.\n",
      "  warnings.warn('Unable to match CIF atoms to Pymatgen atoms.')\n"
     ]
    }
   ],
   "source": [
    "# path to test example directory.\n",
    "eg_dir = Path('cg_zif8')\n",
    "\n",
    "# instantiate a Structure object from a CIF file.\n",
    "zif8 = Structure.from_cif(eg_dir / 'ZIF-8-sod.cif', cores=4, verbose=True)\n",
    "zif8.remove_species('O')\n",
    "zif8.average_element_pairs('H', rmin=0.0, rmax=0.9)"
   ]
  },
  {
   "cell_type": "code",
   "execution_count": 3,
   "metadata": {},
   "outputs": [
    {
     "name": "stdout",
     "output_type": "stream",
     "text": [
      "\u001b[94mget_neighbours_crystalnn() took 8.75 seconds to execute.\u001b[0m\n"
     ]
    }
   ],
   "source": [
    "# we *strongly* reccomend you first compute the neighbour list for your\n",
    "# structure *before* you replicate it, otherwise you will have to recompute\n",
    "# the neighbour list for all atoms in the supercell.\n",
    "zif8.get_neighbours_crystalnn()"
   ]
  },
  {
   "cell_type": "code",
   "execution_count": 4,
   "metadata": {},
   "outputs": [
    {
     "name": "stdout",
     "output_type": "stream",
     "text": [
      "\u001b[92mreplicate() took 0.88 seconds to execute.\u001b[0m\n"
     ]
    }
   ],
   "source": [
    "# now we can replicate the cell. we pass it a list of three integers, which are \n",
    "# the number of times we want to replicate the unit cell in each direction. in \n",
    "#this case, we replicate the unit cell once in the x direction, three times in \n",
    "# the y direction, and twice in the z direction. it returns a new Net object, \n",
    "# which we can assign to a new variable.\n",
    "zif8_supercell = zif8.replicate([1, 3, 2])"
   ]
  },
  {
   "cell_type": "code",
   "execution_count": 5,
   "metadata": {},
   "outputs": [
    {
     "name": "stdout",
     "output_type": "stream",
     "text": [
      "\u001b[94mfind_atomic_clusters() took 0.20 seconds to execute.\u001b[0m\n",
      "\u001b[94mget_coarse_grained_net() took 0.08 seconds to execute.\u001b[0m\n"
     ]
    }
   ],
   "source": [
    "# now we can proceed as normal, since we have now got a supercell and the \n",
    "# neighbour list has been updated to account for it.\n",
    "zif8_supercell.find_atomic_clusters()\n",
    "zif8_supercell.get_coarse_grained_net()\n",
    "zif8_supercell.net_to_cif(\n",
    "    eg_dir / 'ZIF-8-sod-cg-1x3x2.cif', \n",
    "    write_bonds=True, \n",
    "    name='ZIF-8-cg-supercell'\n",
    ")\n",
    "zif8_supercell.net_to_lammps_data(\n",
    "    eg_dir / 'ZIF-8-sod-cg-1x3x2.data',\n",
    "    write_bonds=True,\n",
    "    name='ZIF-8-cg-supercell'\n",
    ")"
   ]
  },
  {
   "cell_type": "markdown",
   "metadata": {},
   "source": [
    "---\n",
    "## Decorating supercells\n",
    "\n",
    "You might have the TopoCIF for a single unit cell, but need a larger decorated \n",
    "net (e.g. for simulation). We can achieve this with the replicate() function.\n",
    "\n",
    "One particular use-case might be when using the structure for LAMMPS\n",
    "simulations, where explicit bonds are given. Sometimes the unit cells might be \n",
    "too small for the minimum image convention (MIC) to work, and therefore the \n",
    "force field will fail."
   ]
  },
  {
   "cell_type": "code",
   "execution_count": 6,
   "metadata": {},
   "outputs": [],
   "source": [
    "# path to test example directory.\n",
    "eg_dir = Path('decorate_sod')\n",
    "\n",
    "# instantiate a Net object from a topocif file.\n",
    "sod_net = Net.from_topocif(eg_dir / 'ZIF-8-sod-cg.cif')"
   ]
  },
  {
   "cell_type": "code",
   "execution_count": 7,
   "metadata": {},
   "outputs": [],
   "source": [
    "# now that we have our Net object, we can replicate the unit cell. we pass it\n",
    "# a list of three integers, which are the number of times we want to replicate\n",
    "# the unit cell in each direction. in this case, we replicate the unit cell\n",
    "# once in the x direction, three times in the y direction, and twice in the z\n",
    "# direction. it returns a new Net object, which we can assign to a new variable.\n",
    "supercell_net = sod_net.replicate([1, 3, 2])"
   ]
  },
  {
   "cell_type": "code",
   "execution_count": 8,
   "metadata": {},
   "outputs": [],
   "source": [
    "# we can now proceed as usual.\n",
    "supercell_net.add_zif_atoms(template='H')\n",
    "supercell_net.assign_mofff_topology()\n",
    "supercell_net.to_lammps_data(eg_dir / 'ZIF-8-sod-cg-decorated-H-1x3x2.data')"
   ]
  },
  {
   "cell_type": "code",
   "execution_count": null,
   "metadata": {},
   "outputs": [],
   "source": []
  }
 ],
 "metadata": {
  "kernelspec": {
   "display_name": "chic23",
   "language": "python",
   "name": "python3"
  },
  "language_info": {
   "codemirror_mode": {
    "name": "ipython",
    "version": 3
   },
   "file_extension": ".py",
   "mimetype": "text/x-python",
   "name": "python",
   "nbconvert_exporter": "python",
   "pygments_lexer": "ipython3",
   "version": "3.8.17"
  }
 },
 "nbformat": 4,
 "nbformat_minor": 2
}
