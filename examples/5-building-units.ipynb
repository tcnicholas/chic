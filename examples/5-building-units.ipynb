{
 "cells": [
  {
   "cell_type": "code",
   "execution_count": 1,
   "metadata": {},
   "outputs": [],
   "source": [
    "from pathlib import Path\n",
    "from chic import Structure\n",
    "from chic.utils import crystal_toolkit_display"
   ]
  },
  {
   "cell_type": "code",
   "execution_count": 2,
   "metadata": {},
   "outputs": [
    {
     "name": "stderr",
     "output_type": "stream",
     "text": [
      "/Users/tcnicholas/miniconda3/envs/chic23/lib/python3.8/site-packages/chic/cif.py:107: UserWarning: Unable to match CIF atoms to Pymatgen atoms.\n",
      "  warnings.warn('Unable to match CIF atoms to Pymatgen atoms.')\n"
     ]
    },
    {
     "name": "stdout",
     "output_type": "stream",
     "text": [
      "\u001b[94mget_neighbours_crystalnn() took 9.65 seconds to execute.\u001b[0m\n",
      "\u001b[94mfind_atomic_clusters() took 0.03 seconds to execute.\u001b[0m\n"
     ]
    }
   ],
   "source": [
    "# path to test example directory.\n",
    "eg_dir = Path('cg_zif8')\n",
    "\n",
    "# instantiate a Structure object from a CIF file.\n",
    "zif8 = Structure.from_cif(eg_dir / 'ZIF-8-sod.cif', cores=8, verbose=True)\n",
    "zif8.remove_species('O')\n",
    "zif8.get_neighbours_crystalnn()\n",
    "zif8.find_atomic_clusters()"
   ]
  },
  {
   "cell_type": "code",
   "execution_count": 3,
   "metadata": {},
   "outputs": [
    {
     "data": {
      "text/plain": [
       "AtomicCluster(\"H8 C4 N2\", site_indices=[0, 1, 2, 3, 4, 5, 6, 7, 8, 9, 10, 11, 12, 13])"
      ]
     },
     "execution_count": 3,
     "metadata": {},
     "output_type": "execute_result"
    }
   ],
   "source": [
    "# we can also visualise individual atomic clusters. For example, let's look at\n",
    "# the first 'b-type' atomic cluster in the ZIF-8 framework.\n",
    "cluster = zif8.atomic_clusters[('b', 1)]\n",
    "cluster"
   ]
  },
  {
   "cell_type": "code",
   "execution_count": 4,
   "metadata": {},
   "outputs": [
    {
     "name": "stdout",
     "output_type": "stream",
     "text": [
      "No module named 'phonopy'\n"
     ]
    },
    {
     "data": {
      "text/html": [
       "\n",
       "        <iframe\n",
       "            width=\"100%\"\n",
       "            height=\"650\"\n",
       "            src=\"http://127.0.0.1:8050/\"\n",
       "            frameborder=\"0\"\n",
       "            allowfullscreen\n",
       "            \n",
       "        ></iframe>\n",
       "        "
      ],
      "text/plain": [
       "<IPython.lib.display.IFrame at 0x7fc0c1babcd0>"
      ]
     },
     "metadata": {},
     "output_type": "display_data"
    }
   ],
   "source": [
    "# we can also visualise the atomic cluster using crystal toolkit. note here, we\n",
    "# can clearly see the disordered H-atoms in the linker, associated with the \n",
    "# rotational freedom of the methyl substituent.\n",
    "cluster.visualise()"
   ]
  },
  {
   "cell_type": "code",
   "execution_count": 7,
   "metadata": {},
   "outputs": [
    {
     "name": "stdout",
     "output_type": "stream",
     "text": [
      "\u001b[94maverage_element_pairs() took 0.02 seconds to execute.\u001b[0m\n"
     ]
    },
    {
     "name": "stdout",
     "output_type": "stream",
     "text": [
      "\u001b[94mget_neighbours_crystalnn() took 7.14 seconds to execute.\u001b[0m\n",
      "\u001b[94mfind_atomic_clusters() took 0.03 seconds to execute.\u001b[0m\n"
     ]
    }
   ],
   "source": [
    "# let us now go back and resolve this disorder, as we did before.\n",
    "zif8.average_element_pairs('H', rmin=0.0, rmax=0.9)\n",
    "\n",
    "# we now need to recompute the neighbour list to account for the new atoms at\n",
    "# the average site.\n",
    "zif8.get_neighbours_crystalnn()\n",
    "zif8.find_atomic_clusters()"
   ]
  },
  {
   "cell_type": "code",
   "execution_count": 8,
   "metadata": {},
   "outputs": [
    {
     "data": {
      "text/html": [
       "\n",
       "        <iframe\n",
       "            width=\"100%\"\n",
       "            height=\"650\"\n",
       "            src=\"http://127.0.0.1:8050/\"\n",
       "            frameborder=\"0\"\n",
       "            allowfullscreen\n",
       "            \n",
       "        ></iframe>\n",
       "        "
      ],
      "text/plain": [
       "<IPython.lib.display.IFrame at 0x7fc0d1060df0>"
      ]
     },
     "metadata": {},
     "output_type": "display_data"
    }
   ],
   "source": [
    "# now re-examine the cluster.\n",
    "cluster = zif8.atomic_clusters[('b', 1)]\n",
    "cluster.visualise()"
   ]
  },
  {
   "cell_type": "code",
   "execution_count": 9,
   "metadata": {},
   "outputs": [
    {
     "data": {
      "text/plain": [
       "[{'nodes': [1, 2, 3, 4, 5], 'edges': [(5, 1), (1, 2), (2, 3), (3, 4), (4, 5)]}]"
      ]
     },
     "execution_count": 9,
     "metadata": {},
     "output_type": "execute_result"
    }
   ],
   "source": [
    "cluster.find_rings()"
   ]
  },
  {
   "cell_type": "code",
   "execution_count": null,
   "metadata": {},
   "outputs": [],
   "source": []
  }
 ],
 "metadata": {
  "kernelspec": {
   "display_name": "chic23",
   "language": "python",
   "name": "python3"
  },
  "language_info": {
   "codemirror_mode": {
    "name": "ipython",
    "version": 3
   },
   "file_extension": ".py",
   "mimetype": "text/x-python",
   "name": "python",
   "nbconvert_exporter": "python",
   "pygments_lexer": "ipython3",
   "version": "3.8.17"
  }
 },
 "nbformat": 4,
 "nbformat_minor": 2
}
