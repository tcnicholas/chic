{
 "cells": [
  {
   "cell_type": "code",
   "execution_count": 1,
   "metadata": {},
   "outputs": [],
   "source": [
    "from pathlib import Path\n",
    "from chic import Net"
   ]
  },
  {
   "cell_type": "markdown",
   "metadata": {},
   "source": [
    "## Decorating basics (**sod** example)\n",
    "\n",
    "*chic* also provides backmapping functionality that allows you to ''decorate'' a\n",
    "coarse-grained with MOF buildig units. This is primarily handled by the \n",
    "chic.Net class. Here, we use the coarse-grained sodalite net from example 1 as a\n",
    "starting point."
   ]
  },
  {
   "cell_type": "code",
   "execution_count": 2,
   "metadata": {},
   "outputs": [],
   "source": [
    "# path to test example directory.\n",
    "eg_dir = Path('decorate_sod')\n",
    "\n",
    "# instantiate a Net object from a topocif file.\n",
    "sod_net = Net.from_topocif(eg_dir / 'ZIF-8-sod-cg.cif')"
   ]
  },
  {
   "cell_type": "code",
   "execution_count": 3,
   "metadata": {},
   "outputs": [],
   "source": [
    "# we can now decorate the Net object with a linker. the default linker is\n",
    "# an unsubstituted imidazole linker (i.e. H substituent).\n",
    "sod_net.add_zif_atoms(template='H')"
   ]
  },
  {
   "cell_type": "code",
   "execution_count": null,
   "metadata": {},
   "outputs": [],
   "source": [
    "# as with the chic.Structure class, we can also write our decorated net to\n",
    "# files using the ASE interface.\n",
    "sod_net.to_ase_to(eg_dir / 'ZIF-8-sod-cg-decorated-H.cif')"
   ]
  },
  {
   "cell_type": "code",
   "execution_count": 5,
   "metadata": {},
   "outputs": [],
   "source": [
    "# we can write the decorated net to a LAMMPS data file. note, so that the \n",
    "# decorated net is compatible with the MOF-FF force field, we distingush\n",
    "# between different types of atoms within the molecule.\n",
    "sod_net.to_lammps_data(eg_dir / 'ZIF-8-sod-cg-decorated-H.data')"
   ]
  },
  {
   "cell_type": "code",
   "execution_count": null,
   "metadata": {},
   "outputs": [],
   "source": [
    "# finally, we can additionally write the LAMMPS data file with the topology\n",
    "# information needed to run a simulation with the MOF-FF for ZIFs force field.\n",
    "# we first need to assign the topology.\n",
    "sod_net.assign_mofff_topology()"
   ]
  },
  {
   "cell_type": "code",
   "execution_count": 8,
   "metadata": {},
   "outputs": [],
   "source": [
    "# then we can call the to_lammps_data method as before, which will now by \n",
    "# default write the topology information to the data file.\n",
    "sod_net.to_lammps_data(eg_dir / 'ZIF-8-sod-cg-decorated-H-topology.data')"
   ]
  },
  {
   "cell_type": "code",
   "execution_count": 6,
   "metadata": {},
   "outputs": [],
   "source": [
    "# we also have the option to decorate the net with a methyl-substituted linker.\n",
    "# note, this will clear the current decoration and replace it with the new one.\n",
    "sod_net.add_zif_atoms(template='CH3')\n",
    "\n",
    "# as before, we can write this decoration to CIF and LAMMPS data files.\n",
    "sod_net.to_ase_to(eg_dir / 'ZIF-8-sod-cg-decorated-CH3.cif')\n",
    "sod_net.to_lammps_data(eg_dir / 'ZIF-8-sod-cg-decorated-CH3.data')\n",
    "\n",
    "# let's add the topology information.\n",
    "sod_net.assign_mofff_topology()\n",
    "\n",
    "# and write the full LAMMPS data file.\n",
    "sod_net.to_lammps_data(eg_dir / 'ZIF-8-sod-cg-decorated-CH3-topology.data')"
   ]
  },
  {
   "cell_type": "code",
   "execution_count": null,
   "metadata": {},
   "outputs": [],
   "source": []
  }
 ],
 "metadata": {
  "kernelspec": {
   "display_name": "chic23",
   "language": "python",
   "name": "python3"
  },
  "language_info": {
   "codemirror_mode": {
    "name": "ipython",
    "version": 3
   },
   "file_extension": ".py",
   "mimetype": "text/x-python",
   "name": "python",
   "nbconvert_exporter": "python",
   "pygments_lexer": "ipython3",
   "version": "3.8.17"
  }
 },
 "nbformat": 4,
 "nbformat_minor": 2
}
