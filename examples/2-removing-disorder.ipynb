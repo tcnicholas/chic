{
 "cells": [
  {
   "cell_type": "code",
   "execution_count": 1,
   "metadata": {},
   "outputs": [],
   "source": [
    "from pathlib import Path\n",
    "from chic.structure import Structure"
   ]
  },
  {
   "cell_type": "code",
   "execution_count": 2,
   "metadata": {},
   "outputs": [
    {
     "name": "stderr",
     "output_type": "stream",
     "text": [
      "/Users/tcnicholas/miniconda3/envs/chic23/lib/python3.8/site-packages/chic/cif.py:107: UserWarning: Unable to match CIF atoms to Pymatgen atoms.\n",
      "  warnings.warn('Unable to match CIF atoms to Pymatgen atoms.')\n"
     ]
    }
   ],
   "source": [
    "# path to test example directory.\n",
    "eg_dir = Path('cg_zif4')\n",
    "\n",
    "# instantiate a Structure object from a CIF file. we turn off the timings\n",
    "# this time (verbose=False).\n",
    "zif4 = Structure.from_cif(eg_dir / 'ZIF-4-cag.cif', cores=4, verbose=False)"
   ]
  },
  {
   "cell_type": "code",
   "execution_count": 3,
   "metadata": {},
   "outputs": [],
   "source": [
    "# here the thermal motion of the imidazolate ring leads to split positions, so\n",
    "# we average the positions of the atoms.\n",
    "zif4.average_element_pairs('H', rmin=0.99, rmax=1.1)\n",
    "zif4.average_element_pairs('C', rmin=0.6, rmax=0.7)\n",
    "\n",
    "# use Pymatgen to write the \"tidy\" structure to a CIF. note we need to convert\n",
    "# the Path object to a string for the Pymatgen writer function.\n",
    "zif4.to(str(eg_dir / 'ZIF-4-cag-tidy.cif'));"
   ]
  },
  {
   "cell_type": "code",
   "execution_count": 4,
   "metadata": {},
   "outputs": [],
   "source": [
    "# follow coarse-graining protocol.\n",
    "zif4.get_neighbours_crystalnn()\n",
    "zif4.find_atomic_clusters()"
   ]
  },
  {
   "cell_type": "code",
   "execution_count": 5,
   "metadata": {},
   "outputs": [],
   "source": [
    "# when we coarse-grain the structure, we can skip the hydrogen atoms when \n",
    "# calculating the geometric centroid of the clusters. this means that we are\n",
    "# essentially taking the centroid of the imidazolate ring. this parameter is\n",
    "# passed to the default \"centroid\" function in the Structure class.\n",
    "zif4.get_coarse_grained_net(skip_elements=['H'])"
   ]
  },
  {
   "cell_type": "code",
   "execution_count": 6,
   "metadata": {},
   "outputs": [],
   "source": [
    "# here we can overlay the atomistic and coarse-grained structures to check\n",
    "# that the coarse-graining has been performed correctly. we can also pass a\n",
    "# dictionary to map the bead types to elements. in this case, we also keep the\n",
    "# non-framework (solvent) atoms, but indicate chic has correctly identified\n",
    "# them as non-framework atoms by placing a Be atom at their position.\n",
    "zif4.overlay_cg_atomistic_representations(\n",
    "    eg_dir / 'ZIF-4-cag-overlay.cif', \n",
    "    skip_non_framework=False,\n",
    "    bead_type_to_element_mapping = {'a': 'Si', 'b': 'Ce', 'X': 'Be'}\n",
    ")"
   ]
  },
  {
   "cell_type": "code",
   "execution_count": null,
   "metadata": {},
   "outputs": [],
   "source": [
    "# we can write the coarse-grained net to a CIF file with the bonds formatted\n",
    "# for TopoCIF.\n",
    "zif4.net_to_cif(\n",
    "    eg_dir / 'ZIF-4-cag-topocif.cif', \n",
    "    write_bonds=True, \n",
    "    name='ZIF-4-cg',\n",
    "    skip_non_framework=True,\n",
    ")\n",
    "\n",
    "# we can also write to LAMMPS data file. It is more obvious if the bonds are\n",
    "# not correct because we can view it directly in OVITO.\n",
    "zif4.net_to_lammps_data(\n",
    "    eg_dir / 'ZIF-4-cag-cg.data', write_bonds=True, name='ZIF-4-cg'\n",
    ")"
   ]
  }
 ],
 "metadata": {
  "kernelspec": {
   "display_name": "chic23",
   "language": "python",
   "name": "python3"
  },
  "language_info": {
   "codemirror_mode": {
    "name": "ipython",
    "version": 3
   },
   "file_extension": ".py",
   "mimetype": "text/x-python",
   "name": "python",
   "nbconvert_exporter": "python",
   "pygments_lexer": "ipython3",
   "version": "3.8.17"
  }
 },
 "nbformat": 4,
 "nbformat_minor": 2
}
