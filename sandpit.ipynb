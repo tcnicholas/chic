{
 "cells": [
  {
   "cell_type": "code",
   "execution_count": 1,
   "metadata": {
    "tags": []
   },
   "outputs": [],
   "source": [
    "from pathlib import Path\n",
    "\n",
    "from chic.structure import Structure"
   ]
  },
  {
   "cell_type": "markdown",
   "metadata": {},
   "source": [
    "---\n",
    "### ZIF-8"
   ]
  },
  {
   "cell_type": "code",
   "execution_count": 2,
   "metadata": {
    "tags": []
   },
   "outputs": [
    {
     "name": "stdout",
     "output_type": "stream",
     "text": [
      "\u001b[94maverage_element_pairs() took 0.02 seconds to execute.\u001b[0m\n",
      "\u001b[94mget_neighbours_crystalnn() took 13.44 seconds to execute.\u001b[0m\n",
      "\u001b[94mfind_atomic_clusters() took 0.04 seconds to execute.\u001b[0m\n",
      "\u001b[94mget_coarse_grained_net() took 0.01 seconds to execute.\u001b[0m\n"
     ]
    }
   ],
   "source": [
    "# path to test example directory.\n",
    "eg_dir = Path('examples/cg_zif8')\n",
    "\n",
    "# instantiate a Structure object from a CIF file.\n",
    "zif8 = Structure.from_cif(eg_dir / 'ZIF-8-sod.cif', cores=4, verbose=True)\n",
    "\n",
    "# we can apply methods native to the Pymatgen Structure class.\n",
    "zif8.remove_species('O')\n",
    "\n",
    "# we can apply methods native to the CHIC Structure class.\n",
    "zif8.average_element_pairs('H', rmin=0.0, rmax=0.9)\n",
    "\n",
    "# a helper function for computing the neighbour list using CrystalNN. This is \n",
    "# the bottleneck in the code, and is where Python's multiprocessing module\n",
    "# is invoked.\n",
    "zif8.get_neighbours_crystalnn()\n",
    "\n",
    "# determine atomic clusters.\n",
    "zif8.find_atomic_clusters()\n",
    "\n",
    "# coarse-grain with centroid method.\n",
    "zif8.get_coarse_grained_net()\n",
    "\n",
    "# we can check the coarse-grained net seems reasonable.\n",
    "zif8.overlay_cg_atomistic_representations(eg_dir / 'ZIF-8-sod-overlay.cif')\n",
    "\n",
    "# we can write the coarse-grained net to a CIF file with the bonds formatted\n",
    "# for TopoCIF.\n",
    "zif8.to_cif(eg_dir / 'ZIF-8-sod-cg.cif', write_bonds=True, name='ZIF-8-cg')\n",
    "\n",
    "# we can also write to LAMMPS data file. It is more obvious if the bonds are\n",
    "# not correct because we can view it directly in OVITO.\n",
    "zif8.to_lammps_data(\n",
    "    eg_dir / 'ZIF-8-sod-cg.data', write_bonds=True, name='ZIF-8-cg'\n",
    ")"
   ]
  },
  {
   "cell_type": "code",
   "execution_count": 3,
   "metadata": {
    "tags": []
   },
   "outputs": [
    {
     "name": "stdout",
     "output_type": "stream",
     "text": [
      "No module named 'phonopy'\n"
     ]
    },
    {
     "data": {
      "text/html": [
       "\n",
       "        <iframe\n",
       "            width=\"100%\"\n",
       "            height=\"650\"\n",
       "            src=\"http://127.0.0.1:8050/\"\n",
       "            frameborder=\"0\"\n",
       "            allowfullscreen\n",
       "            \n",
       "        ></iframe>\n",
       "        "
      ],
      "text/plain": [
       "<IPython.lib.display.IFrame at 0x7fa820f50940>"
      ]
     },
     "metadata": {},
     "output_type": "display_data"
    }
   ],
   "source": [
    "# if you have crystal toolkit installed, you can visualise the overlay within\n",
    "# the notebook (note this can take some time to load).\n",
    "zif8.overlay_cg_atomistic_representations(crystal_toolkit=True)"
   ]
  },
  {
   "cell_type": "code",
   "execution_count": 4,
   "metadata": {},
   "outputs": [
    {
     "data": {
      "text/html": [
       "\n",
       "        <iframe\n",
       "            width=\"100%\"\n",
       "            height=\"650\"\n",
       "            src=\"http://127.0.0.1:8050/\"\n",
       "            frameborder=\"0\"\n",
       "            allowfullscreen\n",
       "            \n",
       "        ></iframe>\n",
       "        "
      ],
      "text/plain": [
       "<IPython.lib.display.IFrame at 0x7fa830a57a60>"
      ]
     },
     "metadata": {},
     "output_type": "display_data"
    }
   ],
   "source": [
    "from chic.utils import crystal_toolkit_display\n",
    "\n",
    "# we can also visualise individual atomic clusters. For example, let's look at\n",
    "# the first 'b-type' atomic cluster in the ZIF-8 framework.\n",
    "molecule = zif8._atomic_clusters[('b', 1)].to_molecule()\n",
    "\n",
    "# center it and view it in crystal toolkit.\n",
    "crystal_toolkit_display(molecule.get_centered_molecule())"
   ]
  },
  {
   "cell_type": "markdown",
   "metadata": {},
   "source": [
    "---\n",
    "### ZIF-4"
   ]
  },
  {
   "cell_type": "code",
   "execution_count": 9,
   "metadata": {},
   "outputs": [],
   "source": [
    "# path to test example directory.\n",
    "eg_dir = Path('examples/cg_zif4')\n",
    "\n",
    "# instantiate a Structure object from a CIF file. we turn off the timings\n",
    "# this time (verbose=False).\n",
    "zif4 = Structure.from_cif(eg_dir / 'ZIF-4-cag.cif', cores=4, verbose=False)\n",
    "\n",
    "# here the thermal motion of the imidazolate ring leads to split positions, so\n",
    "# we average the positions of the atoms.\n",
    "zif4.average_element_pairs('H', rmin=0.99, rmax=1.1)\n",
    "zif4.average_element_pairs('C', rmin=0.6, rmax=0.7)\n",
    "\n",
    "# use Pymatgen to write the \"tidy\" structure to a CIF. note we need to convert\n",
    "# the Path object to a string for the Pymatgen writer function.\n",
    "zif4.to(str(eg_dir / 'ZIF-4-cag-tidy.cif'));"
   ]
  },
  {
   "cell_type": "code",
   "execution_count": 10,
   "metadata": {},
   "outputs": [],
   "source": [
    "# follow coarse-graining protocol.\n",
    "zif4.get_neighbours_crystalnn()\n",
    "zif4.find_atomic_clusters()\n",
    "zif4.get_coarse_grained_net()\n",
    "zif4.overlay_cg_atomistic_representations(eg_dir / 'ZIF-4-cag-overlay.cif')\n",
    "\n",
    "# we can write the coarse-grained net to a CIF file with the bonds formatted\n",
    "# for TopoCIF.\n",
    "zif4.to_cif(eg_dir / 'ZIF-4-cag-topocif.cif', write_bonds=True, name='ZIF-4-cg')\n",
    "\n",
    "# we can also write to LAMMPS data file. It is more obvious if the bonds are\n",
    "# not correct because we can view it directly in OVITO.\n",
    "zif4.to_lammps_data(\n",
    "    eg_dir / 'ZIF-4-cag-cg.data', write_bonds=True, name='ZIF-4-cg'\n",
    ")"
   ]
  },
  {
   "cell_type": "markdown",
   "metadata": {},
   "source": [
    "---\n",
    "### From LAMMPS data.\n",
    "\n",
    "In this case, we make use of the LAMMPS data information to determine the atomic\n",
    "clusters. Here, we have the ZIF-4 structure with each molecule labelled with\n",
    "a unique molecule ID. Note, for this to work, even single atoms (e.g. zinc \n",
    "atoms) should have a unique molecule ID.\n",
    "\n",
    "We pass the kwarg `cluster_by_molecule_id=True` to identify the clusters using\n",
    "the molecule IDs."
   ]
  },
  {
   "cell_type": "code",
   "execution_count": null,
   "metadata": {},
   "outputs": [],
   "source": [
    "vejyuf = Structure.from_lammps_data(\n",
    "    'examples/VEJYUF.data', \n",
    "    cluster_by_molecule_id=True\n",
    ")\n",
    "\n",
    "# now call the coarse-graining methods as usual.\n",
    "vejyuf.get_coarse_grained_net()\n",
    "\n",
    "# and visualise the coarse-grained structure in the overlay mode.\n",
    "vejyuf.overlay_cg_atomistic_representations(\n",
    "    'examples/vejyuf.cif'\n",
    ")\n",
    "\n",
    "# write to CIF. note, since we haven't assigned any inter-molecular bonds,\n",
    "# the CIF will not contain any bonding information.\n",
    "vejyuf.to_cif(\n",
    "    'examples/vejyuf-cg.cif', \n",
    "    name='ZIF-4-cg-from-lammps'\n",
    ")"
   ]
  },
  {
   "cell_type": "code",
   "execution_count": null,
   "metadata": {},
   "outputs": [],
   "source": []
  },
  {
   "cell_type": "code",
   "execution_count": null,
   "metadata": {},
   "outputs": [],
   "source": [
    "from pymatgen.io.lammps.outputs import parse_lammps_dumps"
   ]
  },
  {
   "cell_type": "code",
   "execution_count": null,
   "metadata": {},
   "outputs": [],
   "source": [
    "zif4_400K = Structure.from_lammps_data(\n",
    "    'examples/lammps_dump/melt.plateau_400K.data', \n",
    "    cluster_by_molecule_id=True\n",
    ")\n",
    "\n",
    "zif4_400K.get_coarse_grained_net()\n",
    "\n",
    "zif4_400K.overlay_cg_atomistic_representations(\n",
    "    'examples/lammps_dump/overlay.cif'\n",
    ")\n"
   ]
  },
  {
   "cell_type": "code",
   "execution_count": null,
   "metadata": {},
   "outputs": [],
   "source": [
    "trajectory = parse_lammps_dumps(\n",
    "    'examples/lammps_dump/plateau_400K.dump'\n",
    ")"
   ]
  },
  {
   "cell_type": "code",
   "execution_count": null,
   "metadata": {},
   "outputs": [],
   "source": [
    "len(trajectory)"
   ]
  },
  {
   "cell_type": "code",
   "execution_count": null,
   "metadata": {},
   "outputs": [],
   "source": [
    "first_dump = next(trajectory)"
   ]
  },
  {
   "cell_type": "code",
   "execution_count": null,
   "metadata": {},
   "outputs": [],
   "source": [
    "first_dump.as_dict()"
   ]
  },
  {
   "cell_type": "markdown",
   "metadata": {},
   "source": []
  },
  {
   "cell_type": "code",
   "execution_count": null,
   "metadata": {},
   "outputs": [],
   "source": [
    "import freud"
   ]
  },
  {
   "cell_type": "code",
   "execution_count": null,
   "metadata": {},
   "outputs": [],
   "source": [
    "box = freud.box.Box.from_matrix(zif8.lattice.matrix)\n",
    "voro = freud.locality.Voronoi()\n",
    "voro.compute((box, zif8.cart_coords))"
   ]
  },
  {
   "cell_type": "code",
   "execution_count": null,
   "metadata": {},
   "outputs": [],
   "source": [
    "voro.face_areas"
   ]
  },
  {
   "cell_type": "code",
   "execution_count": null,
   "metadata": {},
   "outputs": [],
   "source": [
    "from pymatgen.analysis.local_env import VoronoiNN"
   ]
  },
  {
   "cell_type": "code",
   "execution_count": null,
   "metadata": {},
   "outputs": [],
   "source": [
    "def adjust_weight(neighbour_info):\n",
    "    neighbour_info[\"weight\"] *= neighbour_info[\"poly_info\"][\"solid_angle\"] / \\\n",
    "        neighbour_info[\"poly_info\"][\"area\"]\n",
    "\n",
    "\n",
    "def custom_crystalNN(\n",
    "    structure,\n",
    "    weighted_cn=False,\n",
    "    cation_anion=False,\n",
    "    distance_cutoffs=(0.5, 1),\n",
    "    x_diff_weight=3.0,\n",
    "    porous_adjustment=True,\n",
    "    search_cutoff=7,\n",
    "    fingerprint_length=None\n",
    "):\n",
    "    \"\"\"\n",
    "    \"\"\"\n",
    "\n",
    "    # Get the VoronoiNN list of neighbours for each site.\n",
    "    vnn = VoronoiNN(weight=\"solid_angle\", cutoff=search_cutoff)\n",
    "    all_nn = vnn.get_all_nn_info(structure)\n",
    "\n",
    "    print(len(all_nn), len(zif8))\n",
    "    print(all_nn)\n",
    "\n",
    "    # iterate through each site.\n",
    "    for site_index, site_neighbours in enumerate(all_nn):\n",
    "        for neighbour_index, neighbour_info in site_neighbours.items():\n",
    "            print(neighbour_info)\n",
    "            if porous_adjustment:\n",
    "                adjust_weight(neighbour_info)\n",
    "\n",
    "        #print()\n",
    "\n",
    "\n",
    "custom_crystalNN(zif8)"
   ]
  },
  {
   "cell_type": "code",
   "execution_count": null,
   "metadata": {},
   "outputs": [],
   "source": [
    "vnn = VoronoiNN(weight=\"solid_angle\", cutoff=15)\n",
    "\n",
    "polyhedra = vnn.get_all_voronoi_polyhedra(zif8)"
   ]
  },
  {
   "cell_type": "code",
   "execution_count": null,
   "metadata": {},
   "outputs": [],
   "source": [
    "cnn = CrystalNN(    weighted_cn=True, cation_anion=False,\n",
    "                    distance_cutoffs=(0.5,1), x_diff_weight=0,\n",
    "                    porous_adjustment=True, search_cutoff=15,\n",
    "                    fingerprint_length=None\n",
    ")\n",
    "\n",
    "nlist_crystalNN = {i: cnn.get_nn_data(zif8, i) for i in range(len(zif8))}"
   ]
  },
  {
   "cell_type": "code",
   "execution_count": null,
   "metadata": {},
   "outputs": [],
   "source": [
    "nlist_freud = create_bond_dict(voro.nlist[:])"
   ]
  },
  {
   "cell_type": "code",
   "execution_count": null,
   "metadata": {},
   "outputs": [],
   "source": [
    "sites = [zif8[ix] for ix in set(nlist_freud[0])]\n",
    "all_vertices = voro.polytopes[0]\n",
    "center_coordinates = zif8[0].coords"
   ]
  },
  {
   "cell_type": "code",
   "execution_count": null,
   "metadata": {},
   "outputs": [],
   "source": [
    "import matplotlib.pyplot as plt\n",
    "fig, ax = plt.subplots(figsize=(10, 10))\n",
    "scatter = ax.scatter(*center_coordinates[:2], c='k')\n",
    "scatter = ax.scatter(*all_vertices[:2].T, c='k')\n",
    "plt.show()"
   ]
  },
  {
   "cell_type": "code",
   "execution_count": null,
   "metadata": {},
   "outputs": [],
   "source": [
    "nlist_crystalNN[0]"
   ]
  },
  {
   "cell_type": "code",
   "execution_count": null,
   "metadata": {},
   "outputs": [],
   "source": []
  },
  {
   "cell_type": "code",
   "execution_count": null,
   "metadata": {},
   "outputs": [],
   "source": [
    "vnn = VoronoiNN(weight=\"solid_angle\", cutoff=12)\n",
    "nn = vnn.get_nn_info(zif8, 0)\n",
    "nn"
   ]
  },
  {
   "cell_type": "code",
   "execution_count": null,
   "metadata": {},
   "outputs": [],
   "source": [
    "def hexagonal_lattice(rows=3, cols=3, noise=0, seed=None):\n",
    "    if seed is not None:\n",
    "        np.random.seed(seed)\n",
    "    # Assemble a hexagonal lattice\n",
    "    points = []\n",
    "    for row in range(rows * 2):\n",
    "        for col in range(cols):\n",
    "            x = (col + (0.5 * (row % 2))) * np.sqrt(3)\n",
    "            y = row * 0.5\n",
    "            points.append((x, y, 0))\n",
    "    points = np.asarray(points)\n",
    "    points += np.random.multivariate_normal(\n",
    "        mean=np.zeros(3), cov=np.eye(3) * noise, size=points.shape[0]\n",
    "    )\n",
    "    # Set z=0 again for all points after adding Gaussian noise\n",
    "    points[:, 2] = 0\n",
    "\n",
    "    # Wrap the points into the box\n",
    "    box = freud.box.Box(Lx=cols * np.sqrt(3), Ly=rows, is2D=True)\n",
    "    points = box.wrap(points)\n",
    "    return box, points\n",
    "\n",
    "box, points = hexagonal_lattice(rows=12, cols=8, noise=0.03, seed=2)\n",
    "voro = freud.locality.Voronoi()\n",
    "voro.compute((box, points))\n",
    "\n",
    "# Plot Voronoi with points and a custom cmap\n",
    "plt.figure()\n",
    "ax = plt.gca()\n",
    "voro.plot(ax=ax, cmap=\"RdBu\")\n",
    "ax.scatter(points[:, 0], points[:, 1], s=2, c=\"k\")\n",
    "plt.show()"
   ]
  },
  {
   "cell_type": "code",
   "execution_count": null,
   "metadata": {},
   "outputs": [],
   "source": [
    "box = freud.box.Box.from_matrix(zif8.lattice.matrix)\n",
    "voro = freud.locality.Voronoi()\n",
    "voro.compute((box, zif8.cart_coords))\n",
    "voronoi_neighbours = create_bond_dict(voro.nlist[:])"
   ]
  },
  {
   "cell_type": "code",
   "execution_count": null,
   "metadata": {},
   "outputs": [],
   "source": [
    "def shared_coordinates(arr1, arr2, rounding=4):\n",
    "    \"\"\"\n",
    "    Return the coordinates of the elements that are shared between two arrays.\n",
    "    \"\"\"\n",
    "\n",
    "    a1 = np.round(arr1, rounding)\n",
    "    a2 = np.round(arr2, rounding)\n",
    "\n",
    "    _, ncols = a1.shape\n",
    "    dtype = {\n",
    "        'names':['f{}'.format(i) for i in range(ncols)], \n",
    "        'formats':ncols * [a1.dtype]\n",
    "    }\n",
    "\n",
    "    shared_coordinates = np.intersect1d(a1.view(dtype), a2.view(dtype))\n",
    "    shared_coordinates = shared_coordinates.view(a1.dtype).reshape(-1, ncols)\n",
    "\n",
    "    return shared_coordinates\n",
    "\n",
    "a = np.array([\n",
    "    [1, 2, 3],\n",
    "    [4, 5, 6],\n",
    "    [7.33231, 8.32321, 9.634522]\n",
    "])\n",
    "\n",
    "b = np.array([\n",
    "    [1, 2, 3],\n",
    "    [2, 1, 6],\n",
    "    [7.3323, 8.32321, 9.634522]\n",
    "])\n",
    "\n",
    "\n",
    "shared_coordinates(a, b)"
   ]
  },
  {
   "cell_type": "code",
   "execution_count": null,
   "metadata": {},
   "outputs": [],
   "source": [
    "def extract_neighbour_properties(self,\n",
    "    freud_voronoi_query,\n",
    "    voronoi_neighbours,\n",
    "    index,\n",
    "):\n",
    "    \"\"\"\n",
    "    Extracts the properties of the neighbours of a given particle.\n",
    "    \"\"\"\n",
    "    # Get the neighbour indices\n",
    "    neighbour_indices = set(voronoi_neighbours[index])\n",
    "    sites = [self[i] for i in neighbour_indices]\n",
    "    \n",
    "    # freud does not assing unique indices to each polytope vertex so we have\n",
    "    # to do it ourselves.\n",
    "    local_polytope = freud_voronoi_query.polytopes[index]\n",
    "    \n",
    "    for neighbour in neighbour_indices:\n",
    "        neighbour_polytope = freud_voronoi_query.polytopes[neighbour]\n",
    "        print(local_polytope)\n",
    "        print(neighbour_polytope)\n",
    "        print()\n",
    "        shared_polytope_vertices = shared_coordinates(local_polytope, neighbour_polytope)\n",
    "        #print(shared_polytope_vertices)\n",
    "\n",
    "extract_neighbour_properties(zif8, voro, voronoi_neighbours, 0)"
   ]
  },
  {
   "cell_type": "code",
   "execution_count": null,
   "metadata": {},
   "outputs": [],
   "source": [
    "ix = list(set(nlist_freud[0]))\n",
    "print(ix)\n",
    "\n",
    "all_vertices = voro.polytopes[0]\n",
    "other_vertices = voro.polytopes[ix[0]]\n",
    "\n",
    "a1 = np.round(all_vertices, 6)\n",
    "a2 = np.round(other_vertices, 6)\n",
    "nrows, ncols = a1.shape\n",
    "dtype={'names':['f{}'.format(i) for i in range(ncols)],\n",
    "       'formats':ncols * [a1.dtype]}\n",
    "C = np.intersect1d(a1.view(dtype), a2.view(dtype))\n",
    "C = C.view(a1.dtype).reshape(-1, ncols)\n",
    "\n",
    "plt.scatter(*C[:, :2].T, c='g', s=100)\n",
    "plt.plot(*np.vstack([points[0, :2], points[ix[0], :2]]).T)\n",
    "\n",
    "\n",
    "plt.plot(*all_vertices[:, :2].T, color='blue')\n",
    "plt.scatter(*points[0, :2], c='k', s=100)\n",
    "plt.scatter(*points[ix, :2].T, c='r', s=50)"
   ]
  },
  {
   "cell_type": "code",
   "execution_count": null,
   "metadata": {},
   "outputs": [],
   "source": [
    "np.vstack([points[0, :2], points[ix[0], :2]])"
   ]
  },
  {
   "cell_type": "code",
   "execution_count": null,
   "metadata": {},
   "outputs": [],
   "source": [
    "a1 = np.round(all_vertices, 6)\n",
    "a2 = np.round(other_vertices, 6)\n",
    "\n",
    "nrows, ncols = a1.shape\n",
    "dtype={'names':['f{}'.format(i) for i in range(ncols)],\n",
    "       'formats':ncols * [a1.dtype]}\n",
    "\n",
    "C = np.intersect1d(a1.view(dtype), a2.view(dtype))\n",
    "\n",
    "# This last bit is optional if you're okay with \"C\" being a structured array...\n",
    "C = C.view(a1.dtype).reshape(-1, ncols)\n",
    "C"
   ]
  },
  {
   "cell_type": "code",
   "execution_count": null,
   "metadata": {},
   "outputs": [],
   "source": [
    "C"
   ]
  },
  {
   "cell_type": "code",
   "execution_count": null,
   "metadata": {},
   "outputs": [],
   "source": [
    "sites = [zif8[ix] for ix in set(voro.nlist[0])]\n",
    "all_vertices = voro.polytopes[0]\n",
    "center_coordinates = zif8[0].coords"
   ]
  }
 ],
 "metadata": {
  "kernelspec": {
   "display_name": "Python 3 (ipykernel)",
   "language": "python",
   "name": "python3"
  },
  "language_info": {
   "codemirror_mode": {
    "name": "ipython",
    "version": 3
   },
   "file_extension": ".py",
   "mimetype": "text/x-python",
   "name": "python",
   "nbconvert_exporter": "python",
   "pygments_lexer": "ipython3",
   "version": "3.8.17"
  }
 },
 "nbformat": 4,
 "nbformat_minor": 4
}
